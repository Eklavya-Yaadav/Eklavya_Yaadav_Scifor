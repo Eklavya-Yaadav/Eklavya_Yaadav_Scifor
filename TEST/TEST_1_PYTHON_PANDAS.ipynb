{
 "cells": [
  {
   "cell_type": "code",
   "execution_count": 1,
   "id": "aed1eff7",
   "metadata": {},
   "outputs": [],
   "source": [
    "import pandas as pd\n",
    "import numpy as np"
   ]
  },
  {
   "cell_type": "code",
   "execution_count": 2,
   "id": "33eb86eb",
   "metadata": {},
   "outputs": [
    {
     "data": {
      "text/plain": [
       "Qtr 1    30000\n",
       "Qtr 2    30000\n",
       "Qtr 3    30000\n",
       "Qtr 4    30000\n",
       "dtype: int64"
      ]
     },
     "execution_count": 2,
     "metadata": {},
     "output_type": "execute_result"
    }
   ],
   "source": [
    "# Q1. How can you create a pandas Series with a scalar value of 30000 for each quarter of the year, \n",
    "# labeling each quarter accordingly, using Python?\n",
    "\n",
    "s = pd.Series(30000,index=['Qtr 1','Qtr 2','Qtr 3','Qtr 4'])\n",
    "s"
   ]
  },
  {
   "cell_type": "code",
   "execution_count": null,
   "id": "8b0525f7",
   "metadata": {},
   "outputs": [],
   "source": []
  },
  {
   "cell_type": "code",
   "execution_count": 19,
   "id": "bf945d91",
   "metadata": {},
   "outputs": [
    {
     "name": "stdout",
     "output_type": "stream",
     "text": [
      "Enter numbers for list 1 (space-separated): 5 5\n",
      "Enter numbers for list 2 (space-separated): 1 1\n",
      "List 1: [5.0, 5.0]\n",
      "List 2: [1.0, 1.0]\n",
      "Sum: [6.0, 6.0]\n"
     ]
    }
   ],
   "source": [
    "# Q2. Write a program to create two lists taking input from user and print their sum in another list? \n",
    "\n",
    "user_input1 = input(\"Enter numbers for list 1 (space-separated): \")\n",
    "user_input2 = input(\"Enter numbers for list 2 (space-separated): \")\n",
    "\n",
    "list1 = [float(num) for num in user_input1.split()]\n",
    "list2 = [float(num) for num in user_input2.split()]\n",
    "\n",
    "if len(list1) != len(list2):\n",
    "    print(\"Error: Lists must be of the same length for summation.\")\n",
    "else:\n",
    "    sum_result = []\n",
    "    \n",
    "    for i in range(len(list1)):\n",
    "        sum_result.append(list1[i] + list2[i])\n",
    "    \n",
    "print(f\"List 1: {list1}\")\n",
    "print(f\"List 2: {list2}\")\n",
    "print(f\"Sum: {sum_result}\")"
   ]
  },
  {
   "cell_type": "code",
   "execution_count": null,
   "id": "958da679",
   "metadata": {},
   "outputs": [],
   "source": []
  },
  {
   "cell_type": "code",
   "execution_count": 4,
   "id": "ac3eb0e9",
   "metadata": {},
   "outputs": [
    {
     "name": "stdout",
     "output_type": "stream",
     "text": [
      "{1: 'Monday', 2: 'Tuesday', 3: 'Wednesday', 4: 'Thursday', 5: 'Friday', 6: 'Saturday', 7: 'Sunday'}\n"
     ]
    }
   ],
   "source": [
    "# Q3. Create a dictionary which represents the weekdays?\n",
    "\n",
    "week_dict = {1: 'Monday',2: 'Tuesday',3: 'Wednesday',4: 'Thursday',5: 'Friday',6: 'Saturday',\n",
    "7: 'Sunday'}\n",
    "\n",
    "\n",
    "print(week_dict)"
   ]
  },
  {
   "cell_type": "code",
   "execution_count": null,
   "id": "79ec6924",
   "metadata": {},
   "outputs": [],
   "source": []
  },
  {
   "cell_type": "code",
   "execution_count": 5,
   "id": "cf0bff69",
   "metadata": {},
   "outputs": [
    {
     "name": "stdout",
     "output_type": "stream",
     "text": [
      "Average temperature per week:\n",
      "Week1    25.0\n",
      "Week2    22.6\n",
      "Week3    27.8\n",
      "Week4    24.0\n",
      "dtype: float64\n",
      "\n",
      "Average temperature of the entire month: 24.85\n"
     ]
    }
   ],
   "source": [
    "# Q4. Create Series which represents weekly temperature in a month and show their average \n",
    "# temperature per week in a month in dataframe and also find average temperature of entire month?\n",
    "\n",
    "temp1 = pd.Series([25, 28, 23, 22, 27])\n",
    "temp2 = pd.Series([22, 24, 26, 21, 20])\n",
    "temp3 = pd.Series([27, 29, 30, 28, 25])\n",
    "temp4 = pd.Series([23, 24, 26, 25, 22])\n",
    "\n",
    "temperature_df = pd.DataFrame({\n",
    "    'Week1': temp1,\n",
    "    'Week2': temp2,\n",
    "    'Week3': temp3,\n",
    "    'Week4': temp4\n",
    "})\n",
    "\n",
    "average_per_week = temperature_df.mean()\n",
    "print(\"Average temperature per week:\")\n",
    "print(average_per_week)\n",
    "\n",
    "average_of_month = temperature_df.values.mean()\n",
    "print(\"\\nAverage temperature of the entire month:\", average_of_month)\n",
    "\n"
   ]
  },
  {
   "cell_type": "code",
   "execution_count": null,
   "id": "1aecd24d",
   "metadata": {},
   "outputs": [],
   "source": []
  },
  {
   "cell_type": "code",
   "execution_count": 6,
   "id": "84c936b9",
   "metadata": {},
   "outputs": [
    {
     "data": {
      "text/html": [
       "<div>\n",
       "<style scoped>\n",
       "    .dataframe tbody tr th:only-of-type {\n",
       "        vertical-align: middle;\n",
       "    }\n",
       "\n",
       "    .dataframe tbody tr th {\n",
       "        vertical-align: top;\n",
       "    }\n",
       "\n",
       "    .dataframe thead th {\n",
       "        text-align: right;\n",
       "    }\n",
       "</style>\n",
       "<table border=\"1\" class=\"dataframe\">\n",
       "  <thead>\n",
       "    <tr style=\"text-align: right;\">\n",
       "      <th></th>\n",
       "      <th>Name</th>\n",
       "      <th>Zone</th>\n",
       "      <th>Sale</th>\n",
       "    </tr>\n",
       "  </thead>\n",
       "  <tbody>\n",
       "    <tr>\n",
       "      <th>0</th>\n",
       "      <td>John</td>\n",
       "      <td>North</td>\n",
       "      <td>15000</td>\n",
       "    </tr>\n",
       "    <tr>\n",
       "      <th>1</th>\n",
       "      <td>Alice</td>\n",
       "      <td>South</td>\n",
       "      <td>20000</td>\n",
       "    </tr>\n",
       "    <tr>\n",
       "      <th>2</th>\n",
       "      <td>Bob</td>\n",
       "      <td>East</td>\n",
       "      <td>18000</td>\n",
       "    </tr>\n",
       "    <tr>\n",
       "      <th>3</th>\n",
       "      <td>Charlie</td>\n",
       "      <td>West</td>\n",
       "      <td>22000</td>\n",
       "    </tr>\n",
       "    <tr>\n",
       "      <th>4</th>\n",
       "      <td>David</td>\n",
       "      <td>Central</td>\n",
       "      <td>19000</td>\n",
       "    </tr>\n",
       "  </tbody>\n",
       "</table>\n",
       "</div>"
      ],
      "text/plain": [
       "      Name     Zone   Sale\n",
       "0     John    North  15000\n",
       "1    Alice    South  20000\n",
       "2      Bob     East  18000\n",
       "3  Charlie     West  22000\n",
       "4    David  Central  19000"
      ]
     },
     "execution_count": 6,
     "metadata": {},
     "output_type": "execute_result"
    }
   ],
   "source": [
    "# Q5. Create a DataFrame by using dictionary of list? \n",
    "\n",
    "data = {\n",
    "    'Name': ['John', 'Alice', 'Bob', 'Charlie', 'David'],\n",
    "    'Zone': ['North', 'South', 'East', 'West', 'Central'],\n",
    "    'Sale': [15000, 20000, 18000, 22000, 19000]\n",
    "}\n",
    "\n",
    "salesman_df = pd.DataFrame(data)\n",
    "\n",
    "salesman_df"
   ]
  },
  {
   "cell_type": "code",
   "execution_count": null,
   "id": "9d0c5564",
   "metadata": {},
   "outputs": [],
   "source": []
  },
  {
   "cell_type": "code",
   "execution_count": 7,
   "id": "6825b739",
   "metadata": {},
   "outputs": [
    {
     "name": "stdout",
     "output_type": "stream",
     "text": [
      "0     5\n",
      "1    10\n",
      "2    15\n",
      "3    20\n",
      "4    25\n",
      "5    30\n",
      "6    35\n",
      "7    40\n",
      "8    45\n",
      "9    50\n",
      "dtype: int64\n"
     ]
    }
   ],
   "source": [
    "# Q6. Create a Series having table of 5 by using for loop?\n",
    "\n",
    "t = []\n",
    "\n",
    "for i in range(1, 11):\n",
    "    t.append(5 * i)\n",
    "\n",
    "table_of_5 = pd.Series(t)\n",
    "print(table_of_5)"
   ]
  },
  {
   "cell_type": "code",
   "execution_count": null,
   "id": "cc6db3e1",
   "metadata": {},
   "outputs": [],
   "source": []
  },
  {
   "cell_type": "code",
   "execution_count": 8,
   "id": "c51f5e87",
   "metadata": {},
   "outputs": [
    {
     "name": "stdout",
     "output_type": "stream",
     "text": [
      "Product Information DataFrame:\n",
      "   ProductID ProductName  Price\n",
      "0        101      Laptop   1200\n",
      "1        102       Phone    800\n",
      "2        103      Tablet    300\n",
      "3        104      Camera    500\n",
      "4        105  Headphones    100\n"
     ]
    }
   ],
   "source": [
    "# Q7. Create any DataFrame and save it in a csv format and export it.\n",
    "\n",
    "\n",
    "product_data = {\n",
    "    'ProductID': [101, 102, 103, 104, 105],\n",
    "    'ProductName': ['Laptop', 'Phone', 'Tablet', 'Camera', 'Headphones'],\n",
    "    'Price': [1200, 800, 300, 500, 100]\n",
    "}\n",
    "\n",
    "product_df = pd.DataFrame(product_data)\n",
    "\n",
    "print(\"Product Information DataFrame:\")\n",
    "print(product_df)\n",
    "\n",
    "csv_filename = 'product_information.csv'\n",
    "product_df.to_csv(csv_filename )"
   ]
  },
  {
   "cell_type": "code",
   "execution_count": null,
   "id": "1002e06b",
   "metadata": {},
   "outputs": [],
   "source": []
  },
  {
   "cell_type": "code",
   "execution_count": null,
   "id": "6cfb9a10",
   "metadata": {},
   "outputs": [],
   "source": []
  },
  {
   "cell_type": "code",
   "execution_count": null,
   "id": "9672c46d",
   "metadata": {},
   "outputs": [],
   "source": []
  }
 ],
 "metadata": {
  "kernelspec": {
   "display_name": "Python 3 (ipykernel)",
   "language": "python",
   "name": "python3"
  },
  "language_info": {
   "codemirror_mode": {
    "name": "ipython",
    "version": 3
   },
   "file_extension": ".py",
   "mimetype": "text/x-python",
   "name": "python",
   "nbconvert_exporter": "python",
   "pygments_lexer": "ipython3",
   "version": "3.11.7"
  }
 },
 "nbformat": 4,
 "nbformat_minor": 5
}
