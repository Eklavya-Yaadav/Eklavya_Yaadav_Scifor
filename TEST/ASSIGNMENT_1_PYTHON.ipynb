{
 "cells": [
  {
   "cell_type": "markdown",
   "id": "a5e55247",
   "metadata": {},
   "source": [
    "# Write a Python function that takes a list and returns a new list with distinct elements from the first list."
   ]
  },
  {
   "cell_type": "code",
   "execution_count": 3,
   "id": "194ae090",
   "metadata": {},
   "outputs": [
    {
     "name": "stdout",
     "output_type": "stream",
     "text": [
      "Enter total elements in list 10\n",
      "Enter Elements 8\n",
      "Enter Elements 9\n",
      "Enter Elements 8\n",
      "Enter Elements 5\n",
      "Enter Elements 54\n",
      "Enter Elements 55\n",
      "Enter Elements 54\n",
      "Enter Elements 6\n",
      "Enter Elements 6\n",
      "Enter Elements 6\n",
      "Original List : [8, 9, 8, 5, 54, 55, 54, 6, 6, 6]\n",
      "Distinct List : [8, 9, 5, 54, 55, 6]\n"
     ]
    }
   ],
   "source": [
    "def Distinct_list (a):\n",
    "    x = []\n",
    "    for i in a:\n",
    "        if i not in x:\n",
    "            x.append(i)\n",
    "    return x\n",
    "\n",
    "l = []\n",
    "n = int(input('Enter total elements in list '))\n",
    "for k in range(n):\n",
    "    b = int(input('Enter Elements '))\n",
    "    l.append(b)\n",
    "print('Original List :',l)\n",
    "print('Distinct List :',Distinct_list(l))"
   ]
  },
  {
   "cell_type": "markdown",
   "id": "39775738",
   "metadata": {},
   "source": [
    "# Write a Python program to access a function inside a function."
   ]
  },
  {
   "cell_type": "code",
   "execution_count": 85,
   "id": "3b567f58",
   "metadata": {},
   "outputs": [
    {
     "data": {
      "text/plain": [
       "21"
      ]
     },
     "execution_count": 85,
     "metadata": {},
     "output_type": "execute_result"
    }
   ],
   "source": [
    "def func_1 (a):\n",
    "    def func_2 (b):\n",
    "        sum = a+b\n",
    "        return sum\n",
    "    return func_2\n",
    "\n",
    "outer_func = func_1(5)\n",
    "outer_func(16)"
   ]
  },
  {
   "cell_type": "markdown",
   "id": "fbe809db",
   "metadata": {},
   "source": [
    "# Use aloop to display elements from a given list present at odd index positions."
   ]
  },
  {
   "cell_type": "code",
   "execution_count": 262,
   "id": "fb41449d",
   "metadata": {},
   "outputs": [
    {
     "name": "stdout",
     "output_type": "stream",
     "text": [
      "[6, 8, 5, 5, 84, 4, 44, 44, 4554, 13, 2]\n"
     ]
    }
   ],
   "source": [
    "l1 = [5,6,7,8,9,5,32,5,44,84,4,4,45,44,5,44,565,4554,41,13,2020,2,44]\n",
    "l2 = []\n",
    "for i in range(len(l1)):\n",
    "    if (i%2) != 0:\n",
    "        l2.append(l1[i])\n",
    "print(l2)"
   ]
  },
  {
   "cell_type": "markdown",
   "id": "ce2e4a7b",
   "metadata": {},
   "source": [
    "#  Write a program to print the following star pattern using the for loop."
   ]
  },
  {
   "cell_type": "code",
   "execution_count": 349,
   "id": "66f57a2a",
   "metadata": {},
   "outputs": [
    {
     "name": "stdout",
     "output_type": "stream",
     "text": [
      "* \n",
      "* * \n",
      "* * * \n",
      "* * * * \n",
      "* * * * * \n",
      "* * * * \n",
      "* * * \n",
      "* * \n",
      "* \n",
      "\n"
     ]
    }
   ],
   "source": [
    "n = 5\n",
    "for i in range(n):\n",
    "    print('* ' * (i+1))\n",
    "for i in range(n):\n",
    "    print('* ' * (n-i-1))"
   ]
  },
  {
   "cell_type": "markdown",
   "id": "afa2b450",
   "metadata": {},
   "source": [
    "# Write a program to accept a number from a user and calculate the sum of all numbers from 1 to a given number.\n"
   ]
  },
  {
   "cell_type": "code",
   "execution_count": 363,
   "id": "cef82001",
   "metadata": {},
   "outputs": [
    {
     "name": "stdout",
     "output_type": "stream",
     "text": [
      "Enter any number = 9\n",
      "Sum of all numbers starting from 1 =  45\n"
     ]
    }
   ],
   "source": [
    "n = int(input('Enter any number = '))\n",
    "num = 0\n",
    "for i in range(n+1):\n",
    "    num = num + i\n",
    "    \n",
    "print('Sum of all numbers starting from 1 = ',num)"
   ]
  },
  {
   "cell_type": "markdown",
   "id": "4426c894",
   "metadata": {},
   "source": [
    "# Write a program to increase those values in the given Pandas Series by 50 which are less than 70."
   ]
  },
  {
   "cell_type": "code",
   "execution_count": 2,
   "id": "dd031f21",
   "metadata": {},
   "outputs": [],
   "source": [
    "import pandas as pd"
   ]
  },
  {
   "cell_type": "code",
   "execution_count": 3,
   "id": "c0b87fa8",
   "metadata": {},
   "outputs": [
    {
     "data": {
      "text/plain": [
       "0     50\n",
       "1     60\n",
       "2     70\n",
       "3     80\n",
       "4    101\n",
       "5     69\n",
       "Name: Panda Series, dtype: int64"
      ]
     },
     "execution_count": 3,
     "metadata": {},
     "output_type": "execute_result"
    }
   ],
   "source": [
    "s = pd.Series([50,60,70,80,101,69],name='Panda Series')\n",
    "s"
   ]
  },
  {
   "cell_type": "code",
   "execution_count": 4,
   "id": "8d0263f4",
   "metadata": {},
   "outputs": [
    {
     "name": "stdout",
     "output_type": "stream",
     "text": [
      "0    100\n",
      "1    110\n",
      "2     70\n",
      "3     80\n",
      "4    101\n",
      "5    119\n",
      "Name: Panda Series, dtype: int64\n"
     ]
    }
   ],
   "source": [
    "for i in range(len(s)):\n",
    "    if s[i] < 70:\n",
    "        s[i] = s[i] + 50\n",
    "\n",
    "print(s)"
   ]
  },
  {
   "cell_type": "code",
   "execution_count": null,
   "id": "d39d1dd8",
   "metadata": {},
   "outputs": [],
   "source": []
  },
  {
   "cell_type": "code",
   "execution_count": null,
   "id": "d08869d2",
   "metadata": {},
   "outputs": [],
   "source": []
  },
  {
   "cell_type": "code",
   "execution_count": null,
   "id": "d4433197",
   "metadata": {},
   "outputs": [],
   "source": []
  },
  {
   "cell_type": "code",
   "execution_count": null,
   "id": "128fc50a",
   "metadata": {},
   "outputs": [],
   "source": []
  },
  {
   "cell_type": "code",
   "execution_count": null,
   "id": "4bdf38e9",
   "metadata": {},
   "outputs": [],
   "source": []
  },
  {
   "cell_type": "code",
   "execution_count": null,
   "id": "76449e00",
   "metadata": {},
   "outputs": [],
   "source": []
  },
  {
   "cell_type": "code",
   "execution_count": null,
   "id": "01c72fd6",
   "metadata": {},
   "outputs": [],
   "source": []
  },
  {
   "cell_type": "code",
   "execution_count": null,
   "id": "eb65db56",
   "metadata": {},
   "outputs": [],
   "source": []
  },
  {
   "cell_type": "code",
   "execution_count": null,
   "id": "9cd63170",
   "metadata": {},
   "outputs": [],
   "source": []
  },
  {
   "cell_type": "code",
   "execution_count": null,
   "id": "a04f37ec",
   "metadata": {},
   "outputs": [],
   "source": []
  },
  {
   "cell_type": "code",
   "execution_count": null,
   "id": "068609ca",
   "metadata": {},
   "outputs": [],
   "source": []
  },
  {
   "cell_type": "code",
   "execution_count": null,
   "id": "87dfa63d",
   "metadata": {},
   "outputs": [],
   "source": []
  },
  {
   "cell_type": "code",
   "execution_count": null,
   "id": "29b8d498",
   "metadata": {},
   "outputs": [],
   "source": []
  },
  {
   "cell_type": "code",
   "execution_count": null,
   "id": "40f87e14",
   "metadata": {},
   "outputs": [],
   "source": []
  },
  {
   "cell_type": "code",
   "execution_count": null,
   "id": "68a71dc0",
   "metadata": {},
   "outputs": [],
   "source": []
  },
  {
   "cell_type": "code",
   "execution_count": null,
   "id": "7839cc91",
   "metadata": {},
   "outputs": [],
   "source": []
  },
  {
   "cell_type": "code",
   "execution_count": null,
   "id": "bbc41c8d",
   "metadata": {},
   "outputs": [],
   "source": []
  },
  {
   "cell_type": "code",
   "execution_count": null,
   "id": "8945126f",
   "metadata": {},
   "outputs": [],
   "source": []
  },
  {
   "cell_type": "code",
   "execution_count": null,
   "id": "3a0680bf",
   "metadata": {},
   "outputs": [],
   "source": []
  },
  {
   "cell_type": "code",
   "execution_count": null,
   "id": "91f0a10d",
   "metadata": {},
   "outputs": [],
   "source": []
  },
  {
   "cell_type": "code",
   "execution_count": null,
   "id": "ed5709c3",
   "metadata": {},
   "outputs": [],
   "source": []
  },
  {
   "cell_type": "code",
   "execution_count": null,
   "id": "80d4482e",
   "metadata": {},
   "outputs": [],
   "source": []
  },
  {
   "cell_type": "code",
   "execution_count": null,
   "id": "d4a7cb32",
   "metadata": {},
   "outputs": [],
   "source": []
  }
 ],
 "metadata": {
  "kernelspec": {
   "display_name": "Python 3 (ipykernel)",
   "language": "python",
   "name": "python3"
  },
  "language_info": {
   "codemirror_mode": {
    "name": "ipython",
    "version": 3
   },
   "file_extension": ".py",
   "mimetype": "text/x-python",
   "name": "python",
   "nbconvert_exporter": "python",
   "pygments_lexer": "ipython3",
   "version": "3.11.7"
  }
 },
 "nbformat": 4,
 "nbformat_minor": 5
}
