{
 "cells": [
  {
   "cell_type": "markdown",
   "id": "51983024-2544-4db8-a091-ad3f23f3f3b6",
   "metadata": {},
   "source": [
    "# NLP Text Preprocessing Test\n",
    "\n",
    "**Total Marks: 50**\n",
    "\n",
    "## Story\n",
    "\n",
    "In the rugged terrain of the Western Ghats, Shivaji Maharaj, the founder of the Maratha Empire, was preparing for another day of strategic planning and military campaigns. Known for his innovative tactics and leadership, Shivaji Maharaj was determined to strengthen his kingdom and protect his people from external threats.\n",
    "\n",
    "Shivaji Maharaj’s stronghold was the Raigad Fort, a formidable fortress perched high on a hilltop. The fort's strategic location allowed him to oversee the surrounding lands and defend against invaders. His trusted advisors and generals would gather in the fort's grand hall to discuss plans, share intelligence, and make critical decisions for the empire's expansion.\n",
    "\n",
    "The evenings in Shivaji Maharaj's court were vibrant with activity. He would host feasts and gatherings to bolster the morale of his soldiers and celebrate victories. During these events, Shivaji Maharaj would address his people, sharing his vision for a prosperous and united Maratha Empire. His leadership inspired loyalty and courage among his subjects.\n",
    "\n",
    "As night fell, Shivaji Maharaj would retire to his quarters, reflecting on the day's achievements and preparing for the challenges ahead. His dreams were filled with visions of a strong and resilient empire, where justice and valor would prevail.\n",
    "\n",
    "## Questions\n",
    "\n",
    "1. **Tokenization (3 marks)**  \n",
    "   a. Tokenize the story into sentences.  \n",
    "   b. Tokenize the story into words.\n",
    "\n",
    "2. **Lowercasing (3 marks)**  \n",
    "   Convert all words in the story to lowercase. Provide the transformed text.\n",
    "\n",
    "3. **Stopword Removal (3 marks)**  \n",
    "   a. Remove common stopwords (e.g., 'the', 'was', 'a') from the story.  \n",
    "   b. List the removed stopwords.\n",
    "\n",
    "4. **Punctuation Removal (3 marks)**  \n",
    "   Remove all punctuation marks from the story. Provide the cleaned text.\n",
    "\n",
    "5. **Stemming (3 marks)**  \n",
    "   a. Apply stemming to the words in the story.  \n",
    "   b. Provide a few examples of stemmed words.\n",
    "\n",
    "6. **Lemmatization (3 marks)**  \n",
    "   a. Apply lemmatization to the words in the story.  \n",
    "   b. Provide a few examples of lemmatized words.\n",
    "\n",
    "7. **Named Entity Recognition (NER) (3 marks)**  \n",
    "   Identify and list all named entities (e.g., people, locations) in the story.\n",
    "\n",
    "8. **Part-of-Speech Tagging (3 marks)**  \n",
    "   Tag each word in the story with its corresponding part of speech. Provide the tagged text for a few sentences.\n",
    "\n",
    "9. **Term Frequency (2 marks)**  \n",
    "   Calculate the term frequency (TF) of the word \"Shivaji\" in the story.\n",
    "\n",
    "10. **Frequency Distribution (3 marks)**  \n",
    "    Plot the frequency distribution of the top 10 most common words in the story. Describe the results.\n",
    "\n",
    "11. **Token Count (2 marks)**  \n",
    "    Count the total number of tokens (words) in the story.\n",
    "\n",
    "12. **Sentence Count (2 marks)**  \n",
    "    Count the total number of sentences in the story.\n",
    "\n",
    "13. **Stopword Frequency (2 marks)**  \n",
    "    Calculate the frequency of stopwords in the story. Provide the top 3 most frequent stopwords.\n",
    "\n",
    "14. **Longest Word (2 marks)**  \n",
    "    Identify the longest word in the story and its length.\n",
    "\n",
    "15. **Word Cloud (3 marks)**  \n",
    "    Create a word cloud based on the story. Describe the most prominent words in the cloud.\n",
    "\n",
    "16. **Noun Identification (2 marks)**  \n",
    "    Identify and list all nouns in the story.\n",
    "\n",
    "17. **Verb Identification (2 marks)**  \n",
    "    Identify and list all verbs in the story.\n",
    "\n",
    "18. **Word Context (2 marks)**  \n",
    "    Find and list the sentences where the word \"empire\" appears.\n",
    "\n",
    "19. **Named Entity Categorization (2 marks)**  \n",
    "    Categorize the identified named entities into people, locations, and organizations.\n",
    "\n",
    "20. **Word Frequency Comparison (2 marks)**  \n",
    "    Compare the frequency of the words \"kingdom\" and \"feast\" in the story. Provide their counts and analyze the difference.\n",
    "\n",
    "---\n",
    "\n",
    "### Instructions\n",
    "\n",
    "- Use Python libraries like `nltk`, `spaCy`, `wordcloud`, etc., where appropriate.\n",
    "- Ensure to follow the specified format for each task.\n",
    "- Write clear and concise explanations for your results where required.\n",
    "- Submit your notebook as a PDF file.\n",
    "\n",
    "Good luck!\n"
   ]
  },
  {
   "cell_type": "markdown",
   "id": "d75c225d",
   "metadata": {},
   "source": [
    "# Answers -- 1"
   ]
  },
  {
   "cell_type": "code",
   "execution_count": 1,
   "id": "220c469b",
   "metadata": {},
   "outputs": [
    {
     "name": "stdout",
     "output_type": "stream",
     "text": [
      "['In the rugged terrain of the Western Ghats, Shivaji Maharaj, the founder of the Maratha Empire, was preparing for another day of strategic planning and military campaigns.', 'Known for his innovative tactics and leadership, Shivaji Maharaj was determined to strengthen his kingdom and protect his people from external threats.', 'Shivaji Maharaj’s stronghold was the Raigad Fort, a formidable fortress perched high on a hilltop.', \"The fort's strategic location allowed him to oversee the surrounding lands and defend against invaders.\", \"His trusted advisors and generals would gather in the fort's grand hall to discuss plans, share intelligence, and make critical decisions for the empire's expansion.\", \"The evenings in Shivaji Maharaj's court were vibrant with activity.\", 'He would host feasts and gatherings to bolster the morale of his soldiers and celebrate victories.', 'During these events, Shivaji Maharaj would address his people, sharing his vision for a prosperous and united Maratha Empire.', 'His leadership inspired loyalty and courage among his subjects.', \"As night fell, Shivaji Maharaj would retire to his quarters, reflecting on the day's achievements and preparing for the challenges ahead.\", 'His dreams were filled with visions of a strong and resilient empire, where justice and valor would prevail.']\n"
     ]
    },
    {
     "name": "stderr",
     "output_type": "stream",
     "text": [
      "[nltk_data] Downloading package punkt to\n",
      "[nltk_data]     C:\\Users\\eklav\\AppData\\Roaming\\nltk_data...\n",
      "[nltk_data]   Package punkt is already up-to-date!\n"
     ]
    }
   ],
   "source": [
    "# ANS A :--\n",
    "\n",
    "import nltk\n",
    "nltk.download('punkt')\n",
    "\n",
    "from nltk.tokenize import sent_tokenize\n",
    "\n",
    "\n",
    "\n",
    "story = \"\"\"In the rugged terrain of the Western Ghats, Shivaji Maharaj, the founder of the Maratha Empire, was preparing for another day of strategic planning and military campaigns. Known for his innovative tactics and leadership, Shivaji Maharaj was determined to strengthen his kingdom and protect his people from external threats.\n",
    "Shivaji Maharaj’s stronghold was the Raigad Fort, a formidable fortress perched high on a hilltop. The fort's strategic location allowed him to oversee the surrounding lands and defend against invaders. His trusted advisors and generals would gather in the fort's grand hall to discuss plans, share intelligence, and make critical decisions for the empire's expansion.\n",
    "The evenings in Shivaji Maharaj's court were vibrant with activity. He would host feasts and gatherings to bolster the morale of his soldiers and celebrate victories. During these events, Shivaji Maharaj would address his people, sharing his vision for a prosperous and united Maratha Empire. His leadership inspired loyalty and courage among his subjects.\n",
    "As night fell, Shivaji Maharaj would retire to his quarters, reflecting on the day's achievements and preparing for the challenges ahead. His dreams were filled with visions of a strong and resilient empire, where justice and valor would prevail.\"\"\"\n",
    "\n",
    "sentences = sent_tokenize(story)\n",
    "print(sentences)"
   ]
  },
  {
   "cell_type": "code",
   "execution_count": 2,
   "id": "691ecd11",
   "metadata": {},
   "outputs": [
    {
     "name": "stdout",
     "output_type": "stream",
     "text": [
      "['In', 'the', 'rugged', 'terrain', 'of', 'the', 'Western', 'Ghats', ',', 'Shivaji', 'Maharaj', ',', 'the', 'founder', 'of', 'the', 'Maratha', 'Empire', ',', 'was', 'preparing', 'for', 'another', 'day', 'of', 'strategic', 'planning', 'and', 'military', 'campaigns', '.', 'Known', 'for', 'his', 'innovative', 'tactics', 'and', 'leadership', ',', 'Shivaji', 'Maharaj', 'was', 'determined', 'to', 'strengthen', 'his', 'kingdom', 'and', 'protect', 'his', 'people', 'from', 'external', 'threats', '.', 'Shivaji', 'Maharaj', '’', 's', 'stronghold', 'was', 'the', 'Raigad', 'Fort', ',', 'a', 'formidable', 'fortress', 'perched', 'high', 'on', 'a', 'hilltop', '.', 'The', 'fort', \"'s\", 'strategic', 'location', 'allowed', 'him', 'to', 'oversee', 'the', 'surrounding', 'lands', 'and', 'defend', 'against', 'invaders', '.', 'His', 'trusted', 'advisors', 'and', 'generals', 'would', 'gather', 'in', 'the', 'fort', \"'s\", 'grand', 'hall', 'to', 'discuss', 'plans', ',', 'share', 'intelligence', ',', 'and', 'make', 'critical', 'decisions', 'for', 'the', 'empire', \"'s\", 'expansion', '.', 'The', 'evenings', 'in', 'Shivaji', 'Maharaj', \"'s\", 'court', 'were', 'vibrant', 'with', 'activity', '.', 'He', 'would', 'host', 'feasts', 'and', 'gatherings', 'to', 'bolster', 'the', 'morale', 'of', 'his', 'soldiers', 'and', 'celebrate', 'victories', '.', 'During', 'these', 'events', ',', 'Shivaji', 'Maharaj', 'would', 'address', 'his', 'people', ',', 'sharing', 'his', 'vision', 'for', 'a', 'prosperous', 'and', 'united', 'Maratha', 'Empire', '.', 'His', 'leadership', 'inspired', 'loyalty', 'and', 'courage', 'among', 'his', 'subjects', '.', 'As', 'night', 'fell', ',', 'Shivaji', 'Maharaj', 'would', 'retire', 'to', 'his', 'quarters', ',', 'reflecting', 'on', 'the', 'day', \"'s\", 'achievements', 'and', 'preparing', 'for', 'the', 'challenges', 'ahead', '.', 'His', 'dreams', 'were', 'filled', 'with', 'visions', 'of', 'a', 'strong', 'and', 'resilient', 'empire', ',', 'where', 'justice', 'and', 'valor', 'would', 'prevail', '.']\n"
     ]
    }
   ],
   "source": [
    "# ANS B :--\n",
    "\n",
    "from nltk.tokenize import word_tokenize\n",
    "\n",
    "word = word_tokenize(story)\n",
    "\n",
    "print(word)"
   ]
  },
  {
   "cell_type": "markdown",
   "id": "c93d8f65",
   "metadata": {},
   "source": [
    "# Answer -- 2"
   ]
  },
  {
   "cell_type": "code",
   "execution_count": 3,
   "id": "a3735a5c",
   "metadata": {},
   "outputs": [
    {
     "data": {
      "text/plain": [
       "\"in the rugged terrain of the western ghats, shivaji maharaj, the founder of the maratha empire, was preparing for another day of strategic planning and military campaigns. known for his innovative tactics and leadership, shivaji maharaj was determined to strengthen his kingdom and protect his people from external threats.\\nshivaji maharaj’s stronghold was the raigad fort, a formidable fortress perched high on a hilltop. the fort's strategic location allowed him to oversee the surrounding lands and defend against invaders. his trusted advisors and generals would gather in the fort's grand hall to discuss plans, share intelligence, and make critical decisions for the empire's expansion.\\nthe evenings in shivaji maharaj's court were vibrant with activity. he would host feasts and gatherings to bolster the morale of his soldiers and celebrate victories. during these events, shivaji maharaj would address his people, sharing his vision for a prosperous and united maratha empire. his leadership inspired loyalty and courage among his subjects.\\nas night fell, shivaji maharaj would retire to his quarters, reflecting on the day's achievements and preparing for the challenges ahead. his dreams were filled with visions of a strong and resilient empire, where justice and valor would prevail.\""
      ]
     },
     "execution_count": 3,
     "metadata": {},
     "output_type": "execute_result"
    }
   ],
   "source": [
    "def lower(text):\n",
    "    return text.lower()\n",
    "\n",
    "lower(story)"
   ]
  },
  {
   "cell_type": "markdown",
   "id": "b41b777a",
   "metadata": {},
   "source": [
    "# Answwer -- 3"
   ]
  },
  {
   "cell_type": "code",
   "execution_count": 4,
   "id": "414d8b38",
   "metadata": {},
   "outputs": [
    {
     "data": {
      "text/plain": [
       "'rugged terrain Western Ghats , Shivaji Maharaj , founder Maratha Empire , preparing day strategic planning military campaigns . Known innovative tactics leadership , Shivaji Maharaj determined strengthen kingdom protect people external threats . \\n Shivaji Maharaj stronghold Raigad Fort , formidable fortress perched high hilltop . fort strategic location allowed oversee surrounding lands defend invaders . trusted advisors generals gather fort grand hall discuss plans , share intelligence , critical decisions empire expansion . \\n evenings Shivaji Maharaj court vibrant activity . host feasts gatherings bolster morale soldiers celebrate victories . events , Shivaji Maharaj address people , sharing vision prosperous united Maratha Empire . leadership inspired loyalty courage subjects . \\n night fell , Shivaji Maharaj retire quarters , reflecting day achievements preparing challenges ahead . dreams filled visions strong resilient empire , justice valor prevail .'"
      ]
     },
     "execution_count": 4,
     "metadata": {},
     "output_type": "execute_result"
    }
   ],
   "source": [
    "# ANS A :--\n",
    "\n",
    "import spacy\n",
    "\n",
    "# Load SpaCy model\n",
    "nlp = spacy.load('en_core_web_sm')\n",
    "\n",
    "def Remove_stopwords(text):\n",
    "    doc = nlp(text)\n",
    "    filtered_sentence = [i.text for i in doc if not i.is_stop]\n",
    "    return ' '.join(filtered_sentence)\n",
    "\n",
    "Remove_stopwords(story)"
   ]
  },
  {
   "cell_type": "code",
   "execution_count": 5,
   "id": "622e9871",
   "metadata": {},
   "outputs": [
    {
     "name": "stdout",
     "output_type": "stream",
     "text": [
      "\n",
      "Removed Stopwords:\n",
      "{'from', 'His', 'another', 'among', 'on', 'of', 'and', 'with', 'As', 'against', 'these', 'was', 'the', \"'s\", 'would', 'In', 'During', 'a', 'to', 'were', 'his', 'him', 'in', 'The', 'for', 'where', 'make', 'He', '’s'}\n"
     ]
    }
   ],
   "source": [
    "# ANS B :--\n",
    "\n",
    "doc = nlp(story)\n",
    "\n",
    "removed_stopwords = [token.text for token in doc if token.is_stop]\n",
    "\n",
    "print(\"\\nRemoved Stopwords:\")\n",
    "print(set(removed_stopwords)) "
   ]
  },
  {
   "cell_type": "markdown",
   "id": "27b7775c",
   "metadata": {},
   "source": [
    "# Answer -- 4"
   ]
  },
  {
   "cell_type": "code",
   "execution_count": 6,
   "id": "b4d0c0c1",
   "metadata": {},
   "outputs": [
    {
     "name": "stdout",
     "output_type": "stream",
     "text": [
      "In the rugged terrain of the Western Ghats Shivaji Maharaj the founder of the Maratha Empire was preparing for another day of strategic planning and military campaigns Known for his innovative tactics and leadership Shivaji Maharaj was determined to strengthen his kingdom and protect his people from external threats\n",
      "Shivaji Maharajs stronghold was the Raigad Fort a formidable fortress perched high on a hilltop The forts strategic location allowed him to oversee the surrounding lands and defend against invaders His trusted advisors and generals would gather in the forts grand hall to discuss plans share intelligence and make critical decisions for the empires expansion\n",
      "The evenings in Shivaji Maharajs court were vibrant with activity He would host feasts and gatherings to bolster the morale of his soldiers and celebrate victories During these events Shivaji Maharaj would address his people sharing his vision for a prosperous and united Maratha Empire His leadership inspired loyalty and courage among his subjects\n",
      "As night fell Shivaji Maharaj would retire to his quarters reflecting on the days achievements and preparing for the challenges ahead His dreams were filled with visions of a strong and resilient empire where justice and valor would prevail\n"
     ]
    }
   ],
   "source": [
    "import re\n",
    "\n",
    "def remove_punctuation(input_string):\n",
    "    return re.sub(r'[^\\w\\s]', '', input_string)\n",
    "\n",
    "text = story\n",
    "cleaned_text = remove_punctuation(text)\n",
    "print(cleaned_text) "
   ]
  },
  {
   "cell_type": "markdown",
   "id": "45b7747f",
   "metadata": {},
   "source": [
    "# Answer -- 5"
   ]
  },
  {
   "cell_type": "code",
   "execution_count": 7,
   "id": "c6299b91",
   "metadata": {},
   "outputs": [
    {
     "name": "stdout",
     "output_type": "stream",
     "text": [
      "['in', 'the', 'rug', 'terrain', 'of', 'the', 'western', 'ghat', 'shivaj', 'maharas', 'the', 'found', 'of', 'the', 'marath', 'empir', 'was', 'prep', 'for', 'anoth', 'day', 'of', 'strategic', 'plan', 'and', 'milit', 'campaign', 'known', 'for', 'his', 'innov', 'tact', 'and', 'lead', 'shivaj', 'maharas', 'was', 'determin', 'to', 'strengthen', 'his', 'kingdom', 'and', 'protect', 'his', 'peopl', 'from', 'extern', 'threats', 'shivaj', 'maharas', 'stronghold', 'was', 'the', 'raigad', 'fort', 'a', 'formid', 'fortress', 'perch', 'high', 'on', 'a', 'hilltop', 'the', 'fort', 'strategic', 'loc', 'allow', 'him', 'to', 'overs', 'the', 'surround', 'land', 'and', 'defend', 'against', 'invad', 'his', 'trust', 'adv', 'and', 'gen', 'would', 'gath', 'in', 'the', 'fort', 'grand', 'hal', 'to', 'discuss', 'plan', 'shar', 'intellig', 'and', 'mak', 'crit', 'decid', 'for', 'the', 'empir', 'expand', 'the', 'ev', 'in', 'shivaj', 'maharas', 'court', 'wer', 'vibr', 'with', 'act', 'he', 'would', 'host', 'feast', 'and', 'gath', 'to', 'bolst', 'the', 'mor', 'of', 'his', 'soldy', 'and', 'celebr', 'vict', 'dur', 'thes', 'ev', 'shivaj', 'maharas', 'would', 'address', 'his', 'peopl', 'shar', 'his', 'vis', 'for', 'a', 'prosp', 'and', 'unit', 'marath', 'empir', 'his', 'lead', 'inspir', 'loyal', 'and', 'cour', 'among', 'his', 'subject', 'as', 'night', 'fel', 'shivaj', 'maharas', 'would', 'retir', 'to', 'his', 'quart', 'reflect', 'on', 'the', 'day', 'achiev', 'and', 'prep', 'for', 'the', 'challeng', 'ahead', 'his', 'dream', 'wer', 'fil', 'with', 'vis', 'of', 'a', 'strong', 'and', 'resy', 'empir', 'wher', 'just', 'and', 'val', 'would', 'prevail']\n"
     ]
    }
   ],
   "source": [
    "# ANS A :--\n",
    "\n",
    "from nltk.stem import LancasterStemmer\n",
    "from nltk.tokenize import word_tokenize\n",
    "# Initialize the stemmer\n",
    "lancaster = LancasterStemmer()\n",
    "\n",
    "sentence = cleaned_text\n",
    "words = word_tokenize(sentence)\n",
    "\n",
    "\n",
    "# Apply stemming\n",
    "stemmed_words = [lancaster.stem(word) for word in words]\n",
    "\n",
    "print(stemmed_words)"
   ]
  },
  {
   "cell_type": "code",
   "execution_count": 8,
   "id": "8c8b073b",
   "metadata": {},
   "outputs": [
    {
     "name": "stdout",
     "output_type": "stream",
     "text": [
      "Original: running -> Stemmed: run\n",
      "Original: jumps -> Stemmed: jump\n",
      "Original: easily -> Stemmed: easili\n",
      "Original: faster -> Stemmed: faster\n",
      "Original: happily -> Stemmed: happili\n",
      "Original: studies -> Stemmed: studi\n",
      "Original: playing -> Stemmed: play\n",
      "Original: stressed -> Stemmed: stress\n"
     ]
    },
    {
     "name": "stderr",
     "output_type": "stream",
     "text": [
      "[nltk_data] Downloading package punkt to\n",
      "[nltk_data]     C:\\Users\\eklav\\AppData\\Roaming\\nltk_data...\n",
      "[nltk_data]   Package punkt is already up-to-date!\n"
     ]
    }
   ],
   "source": [
    "# ANS B :--\n",
    "\n",
    "import nltk\n",
    "from nltk.stem import PorterStemmer\n",
    "\n",
    "nltk.download('punkt')\n",
    "\n",
    "# Define a list of words\n",
    "words = [\"running\", \"jumps\", \"easily\", \"faster\", \"happily\", \"studies\", \"playing\", \"stressed\"]\n",
    "\n",
    "# Initialize the Porter stemmer\n",
    "stemmer = PorterStemmer()\n",
    "\n",
    "# Stem the words\n",
    "stemmed_words = [(word, stemmer.stem(word)) for word in words]\n",
    "\n",
    "\n",
    "for original, stemmed in stemmed_words:\n",
    "    print(f\"Original: {original} -> Stemmed: {stemmed}\")"
   ]
  },
  {
   "cell_type": "markdown",
   "id": "8b5e04e0",
   "metadata": {},
   "source": [
    "# Answer -- 6"
   ]
  },
  {
   "cell_type": "code",
   "execution_count": 9,
   "id": "c3b9d6e1",
   "metadata": {},
   "outputs": [
    {
     "name": "stdout",
     "output_type": "stream",
     "text": [
      "['in', 'the', 'rugged', 'terrain', 'of', 'the', 'Western', 'Ghats', 'Shivaji', 'Maharaj', 'the', 'founder', 'of', 'the', 'Maratha', 'Empire', 'be', 'prepare', 'for', 'another', 'day', 'of', 'strategic', 'planning', 'and', 'military', 'campaign', 'know', 'for', 'his', 'innovative', 'tactic', 'and', 'leadership', 'Shivaji', 'Maharaj', 'be', 'determined', 'to', 'strengthen', 'his', 'kingdom', 'and', 'protect', 'his', 'people', 'from', 'external', 'threat', '\\n', 'Shivaji', 'Maharajs', 'stronghold', 'be', 'the', 'Raigad', 'Fort', 'a', 'formidable', 'fortress', 'perch', 'high', 'on', 'a', 'hilltop', 'the', 'fort', 'strategic', 'location', 'allow', 'he', 'to', 'oversee', 'the', 'surround', 'land', 'and', 'defend', 'against', 'invader', 'his', 'trust', 'advisor', 'and', 'general', 'would', 'gather', 'in', 'the', 'fort', 'grand', 'hall', 'to', 'discuss', 'plan', 'share', 'intelligence', 'and', 'make', 'critical', 'decision', 'for', 'the', 'empire', 'expansion', '\\n', 'the', 'evening', 'in', 'Shivaji', 'Maharajs', 'court', 'be', 'vibrant', 'with', 'activity', 'he', 'would', 'host', 'feast', 'and', 'gathering', 'to', 'bolster', 'the', 'morale', 'of', 'his', 'soldier', 'and', 'celebrate', 'victory', 'during', 'these', 'event', 'Shivaji', 'Maharaj', 'would', 'address', 'his', 'people', 'share', 'his', 'vision', 'for', 'a', 'prosperous', 'and', 'united', 'Maratha', 'Empire', 'his', 'leadership', 'inspire', 'loyalty', 'and', 'courage', 'among', 'his', 'subject', '\\n', 'as', 'night', 'fall', 'Shivaji', 'Maharaj', 'would', 'retire', 'to', 'his', 'quarter', 'reflect', 'on', 'the', 'day', 'achievement', 'and', 'prepare', 'for', 'the', 'challenge', 'ahead', 'his', 'dream', 'be', 'fill', 'with', 'vision', 'of', 'a', 'strong', 'and', 'resilient', 'empire', 'where', 'justice', 'and', 'valor', 'would', 'prevail']\n"
     ]
    }
   ],
   "source": [
    "# ANS A :--\n",
    "\n",
    "import spacy\n",
    "\n",
    "# Load the SpaCy model\n",
    "nlp = spacy.load('en_core_web_sm')\n",
    "\n",
    "# Example text\n",
    "text = cleaned_text\n",
    "\n",
    "# Process the text\n",
    "doc = nlp(text)\n",
    "\n",
    "# Extract lemmas\n",
    "lemmatized_words = [i.lemma_ for i in doc]\n",
    "\n",
    "print(lemmatized_words)"
   ]
  },
  {
   "cell_type": "code",
   "execution_count": 10,
   "id": "e5039b9d",
   "metadata": {},
   "outputs": [
    {
     "name": "stdout",
     "output_type": "stream",
     "text": [
      "Original: running -> Lemmatized: running\n",
      "Original: jumps -> Lemmatized: jump\n",
      "Original: easily -> Lemmatized: easily\n",
      "Original: faster -> Lemmatized: fast\n",
      "Original: happily -> Lemmatized: happily\n",
      "Original: studies -> Lemmatized: study\n",
      "Original: playing -> Lemmatized: play\n",
      "Original: stressed -> Lemmatized: stress\n"
     ]
    }
   ],
   "source": [
    "# ANS B :--\n",
    "\n",
    "import spacy\n",
    "\n",
    "nlp = spacy.load(\"en_core_web_sm\")\n",
    "\n",
    "\n",
    "words = [\"running\", \"jumps\", \"easily\", \"faster\", \"happily\", \"studies\", \"playing\", \"stressed\"]\n",
    "doc = nlp(\" \".join(words))\n",
    "lemmatized_words = [(token.text, token.lemma_) for token in doc]\n",
    "\n",
    "for original, lemmatized in lemmatized_words:\n",
    "    print(f\"Original: {original} -> Lemmatized: {lemmatized}\")"
   ]
  },
  {
   "cell_type": "markdown",
   "id": "79687de2",
   "metadata": {},
   "source": [
    "# ANSWER -- 7"
   ]
  },
  {
   "cell_type": "code",
   "execution_count": 11,
   "id": "8631380b",
   "metadata": {},
   "outputs": [
    {
     "name": "stderr",
     "output_type": "stream",
     "text": [
      "[nltk_data] Downloading package averaged_perceptron_tagger to\n",
      "[nltk_data]     C:\\Users\\eklav\\AppData\\Roaming\\nltk_data...\n",
      "[nltk_data]   Package averaged_perceptron_tagger is already up-to-\n",
      "[nltk_data]       date!\n",
      "[nltk_data] Downloading package maxent_ne_chunker to\n",
      "[nltk_data]     C:\\Users\\eklav\\AppData\\Roaming\\nltk_data...\n",
      "[nltk_data]   Package maxent_ne_chunker is already up-to-date!\n",
      "[nltk_data] Downloading package words to\n",
      "[nltk_data]     C:\\Users\\eklav\\AppData\\Roaming\\nltk_data...\n",
      "[nltk_data]   Package words is already up-to-date!\n"
     ]
    },
    {
     "name": "stdout",
     "output_type": "stream",
     "text": [
      "(S\n",
      "  In/IN\n",
      "  the/DT\n",
      "  rugged/JJ\n",
      "  terrain/NN\n",
      "  of/IN\n",
      "  the/DT\n",
      "  (LOCATION Western/JJ Ghats/NNP)\n",
      "  ,/,\n",
      "  (PERSON Shivaji/NNP Maharaj/NNP)\n",
      "  ,/,\n",
      "  the/DT\n",
      "  founder/NN\n",
      "  of/IN\n",
      "  the/DT\n",
      "  (ORGANIZATION Maratha/NNP Empire/NNP)\n",
      "  ,/,\n",
      "  was/VBD\n",
      "  preparing/VBG\n",
      "  for/IN\n",
      "  another/DT\n",
      "  day/NN\n",
      "  of/IN\n",
      "  strategic/JJ\n",
      "  planning/NN\n",
      "  and/CC\n",
      "  military/JJ\n",
      "  campaigns/NNS\n",
      "  ./.\n",
      "  Known/VBN\n",
      "  for/IN\n",
      "  his/PRP$\n",
      "  innovative/JJ\n",
      "  tactics/NNS\n",
      "  and/CC\n",
      "  leadership/NN\n",
      "  ,/,\n",
      "  (PERSON Shivaji/NNP Maharaj/NNP)\n",
      "  was/VBD\n",
      "  determined/VBN\n",
      "  to/TO\n",
      "  strengthen/VB\n",
      "  his/PRP$\n",
      "  kingdom/NN\n",
      "  and/CC\n",
      "  protect/VB\n",
      "  his/PRP$\n",
      "  people/NNS\n",
      "  from/IN\n",
      "  external/JJ\n",
      "  threats/NNS\n",
      "  ./.\n",
      "  (PERSON Shivaji/NNP Maharaj/NNP)\n",
      "  ’/NNP\n",
      "  s/VBD\n",
      "  stronghold/NN\n",
      "  was/VBD\n",
      "  the/DT\n",
      "  (ORGANIZATION Raigad/NNP Fort/NNP)\n",
      "  ,/,\n",
      "  a/DT\n",
      "  formidable/JJ\n",
      "  fortress/NN\n",
      "  perched/VBN\n",
      "  high/RB\n",
      "  on/IN\n",
      "  a/DT\n",
      "  hilltop/NN\n",
      "  ./.\n",
      "  The/DT\n",
      "  fort/NN\n",
      "  's/POS\n",
      "  strategic/JJ\n",
      "  location/NN\n",
      "  allowed/VBD\n",
      "  him/PRP\n",
      "  to/TO\n",
      "  oversee/VB\n",
      "  the/DT\n",
      "  surrounding/VBG\n",
      "  lands/NNS\n",
      "  and/CC\n",
      "  defend/VB\n",
      "  against/IN\n",
      "  invaders/NNS\n",
      "  ./.\n",
      "  His/PRP$\n",
      "  trusted/JJ\n",
      "  advisors/NNS\n",
      "  and/CC\n",
      "  generals/NNS\n",
      "  would/MD\n",
      "  gather/VB\n",
      "  in/IN\n",
      "  the/DT\n",
      "  fort/NN\n",
      "  's/POS\n",
      "  grand/JJ\n",
      "  hall/NN\n",
      "  to/TO\n",
      "  discuss/VB\n",
      "  plans/NNS\n",
      "  ,/,\n",
      "  share/NN\n",
      "  intelligence/NN\n",
      "  ,/,\n",
      "  and/CC\n",
      "  make/VB\n",
      "  critical/JJ\n",
      "  decisions/NNS\n",
      "  for/IN\n",
      "  the/DT\n",
      "  empire/NN\n",
      "  's/POS\n",
      "  expansion/NN\n",
      "  ./.\n",
      "  The/DT\n",
      "  evenings/NNS\n",
      "  in/IN\n",
      "  (GPE Shivaji/NNP Maharaj/NNP)\n",
      "  's/POS\n",
      "  court/NN\n",
      "  were/VBD\n",
      "  vibrant/JJ\n",
      "  with/IN\n",
      "  activity/NN\n",
      "  ./.\n",
      "  He/PRP\n",
      "  would/MD\n",
      "  host/VB\n",
      "  feasts/NNS\n",
      "  and/CC\n",
      "  gatherings/NNS\n",
      "  to/TO\n",
      "  bolster/VB\n",
      "  the/DT\n",
      "  morale/NN\n",
      "  of/IN\n",
      "  his/PRP$\n",
      "  soldiers/NNS\n",
      "  and/CC\n",
      "  celebrate/NN\n",
      "  victories/NNS\n",
      "  ./.\n",
      "  During/IN\n",
      "  these/DT\n",
      "  events/NNS\n",
      "  ,/,\n",
      "  (PERSON Shivaji/NNP Maharaj/NNP)\n",
      "  would/MD\n",
      "  address/VB\n",
      "  his/PRP$\n",
      "  people/NNS\n",
      "  ,/,\n",
      "  sharing/VBG\n",
      "  his/PRP$\n",
      "  vision/NN\n",
      "  for/IN\n",
      "  a/DT\n",
      "  prosperous/JJ\n",
      "  and/CC\n",
      "  united/JJ\n",
      "  (PERSON Maratha/NNP Empire/NNP)\n",
      "  ./.\n",
      "  His/PRP$\n",
      "  leadership/NN\n",
      "  inspired/VBD\n",
      "  loyalty/NN\n",
      "  and/CC\n",
      "  courage/NN\n",
      "  among/IN\n",
      "  his/PRP$\n",
      "  subjects/NNS\n",
      "  ./.\n",
      "  As/IN\n",
      "  night/NN\n",
      "  fell/VBD\n",
      "  ,/,\n",
      "  (PERSON Shivaji/NNP Maharaj/NNP)\n",
      "  would/MD\n",
      "  retire/VB\n",
      "  to/TO\n",
      "  his/PRP$\n",
      "  quarters/NNS\n",
      "  ,/,\n",
      "  reflecting/VBG\n",
      "  on/IN\n",
      "  the/DT\n",
      "  day/NN\n",
      "  's/POS\n",
      "  achievements/NNS\n",
      "  and/CC\n",
      "  preparing/VBG\n",
      "  for/IN\n",
      "  the/DT\n",
      "  challenges/NNS\n",
      "  ahead/RB\n",
      "  ./.\n",
      "  His/PRP$\n",
      "  dreams/NNS\n",
      "  were/VBD\n",
      "  filled/VBN\n",
      "  with/IN\n",
      "  visions/NNS\n",
      "  of/IN\n",
      "  a/DT\n",
      "  strong/JJ\n",
      "  and/CC\n",
      "  resilient/JJ\n",
      "  empire/NN\n",
      "  ,/,\n",
      "  where/WRB\n",
      "  justice/NN\n",
      "  and/CC\n",
      "  valor/NN\n",
      "  would/MD\n",
      "  prevail/VB\n",
      "  ./.)\n"
     ]
    }
   ],
   "source": [
    "from nltk.tag import pos_tag\n",
    "from nltk.chunk import ne_chunk\n",
    "\n",
    "nltk.download('averaged_perceptron_tagger')\n",
    "nltk.download('maxent_ne_chunker')\n",
    "nltk.download('words')\n",
    "\n",
    "def NER(text):\n",
    "    words = word_tokenize(text)\n",
    "    pos_tags = pos_tag(words)\n",
    "    print(ne_chunk(pos_tags))\n",
    "    \n",
    "NER(story)"
   ]
  },
  {
   "cell_type": "markdown",
   "id": "79d4406b",
   "metadata": {},
   "source": [
    "# Answer -- 8"
   ]
  },
  {
   "cell_type": "code",
   "execution_count": 12,
   "id": "a137c25a",
   "metadata": {},
   "outputs": [
    {
     "name": "stdout",
     "output_type": "stream",
     "text": [
      "Part-of-Speech Tags:\n",
      "[('In', 'IN'), ('the', 'DT'), ('rugged', 'JJ'), ('terrain', 'NN'), ('of', 'IN'), ('the', 'DT'), ('Western', 'JJ'), ('Ghats', 'NNP'), (',', ','), ('Shivaji', 'NNP'), ('Maharaj', 'NNP'), (',', ','), ('the', 'DT'), ('founder', 'NN'), ('of', 'IN'), ('the', 'DT'), ('Maratha', 'NNP'), ('Empire', 'NNP'), (',', ','), ('was', 'VBD'), ('preparing', 'VBG'), ('for', 'IN'), ('another', 'DT'), ('day', 'NN'), ('of', 'IN'), ('strategic', 'JJ'), ('planning', 'NN'), ('and', 'CC'), ('military', 'JJ'), ('campaigns', 'NNS'), ('.', '.'), ('Known', 'VBN'), ('for', 'IN'), ('his', 'PRP$'), ('innovative', 'JJ'), ('tactics', 'NNS'), ('and', 'CC'), ('leadership', 'NN'), (',', ','), ('Shivaji', 'NNP'), ('Maharaj', 'NNP'), ('was', 'VBD'), ('determined', 'VBN'), ('to', 'TO'), ('strengthen', 'VB'), ('his', 'PRP$'), ('kingdom', 'NN'), ('and', 'CC'), ('protect', 'VB'), ('his', 'PRP$'), ('people', 'NNS'), ('from', 'IN'), ('external', 'JJ'), ('threats', 'NNS'), ('.', '.'), ('Shivaji', 'NNP'), ('Maharaj', 'NNP'), ('’', 'NNP'), ('s', 'VBD'), ('stronghold', 'NN'), ('was', 'VBD'), ('the', 'DT'), ('Raigad', 'NNP'), ('Fort', 'NNP'), (',', ','), ('a', 'DT'), ('formidable', 'JJ'), ('fortress', 'NN'), ('perched', 'VBN'), ('high', 'RB'), ('on', 'IN'), ('a', 'DT'), ('hilltop', 'NN'), ('.', '.'), ('The', 'DT'), ('fort', 'NN'), (\"'s\", 'POS'), ('strategic', 'JJ'), ('location', 'NN'), ('allowed', 'VBD'), ('him', 'PRP'), ('to', 'TO'), ('oversee', 'VB'), ('the', 'DT'), ('surrounding', 'VBG'), ('lands', 'NNS'), ('and', 'CC'), ('defend', 'VB'), ('against', 'IN'), ('invaders', 'NNS'), ('.', '.'), ('His', 'PRP$'), ('trusted', 'JJ'), ('advisors', 'NNS'), ('and', 'CC'), ('generals', 'NNS'), ('would', 'MD'), ('gather', 'VB'), ('in', 'IN'), ('the', 'DT'), ('fort', 'NN'), (\"'s\", 'POS'), ('grand', 'JJ'), ('hall', 'NN'), ('to', 'TO'), ('discuss', 'VB'), ('plans', 'NNS'), (',', ','), ('share', 'NN'), ('intelligence', 'NN'), (',', ','), ('and', 'CC'), ('make', 'VB'), ('critical', 'JJ'), ('decisions', 'NNS'), ('for', 'IN'), ('the', 'DT'), ('empire', 'NN'), (\"'s\", 'POS'), ('expansion', 'NN'), ('.', '.'), ('The', 'DT'), ('evenings', 'NNS'), ('in', 'IN'), ('Shivaji', 'NNP'), ('Maharaj', 'NNP'), (\"'s\", 'POS'), ('court', 'NN'), ('were', 'VBD'), ('vibrant', 'JJ'), ('with', 'IN'), ('activity', 'NN'), ('.', '.'), ('He', 'PRP'), ('would', 'MD'), ('host', 'VB'), ('feasts', 'NNS'), ('and', 'CC'), ('gatherings', 'NNS'), ('to', 'TO'), ('bolster', 'VB'), ('the', 'DT'), ('morale', 'NN'), ('of', 'IN'), ('his', 'PRP$'), ('soldiers', 'NNS'), ('and', 'CC'), ('celebrate', 'NN'), ('victories', 'NNS'), ('.', '.'), ('During', 'IN'), ('these', 'DT'), ('events', 'NNS'), (',', ','), ('Shivaji', 'NNP'), ('Maharaj', 'NNP'), ('would', 'MD'), ('address', 'VB'), ('his', 'PRP$'), ('people', 'NNS'), (',', ','), ('sharing', 'VBG'), ('his', 'PRP$'), ('vision', 'NN'), ('for', 'IN'), ('a', 'DT'), ('prosperous', 'JJ'), ('and', 'CC'), ('united', 'JJ'), ('Maratha', 'NNP'), ('Empire', 'NNP'), ('.', '.'), ('His', 'PRP$'), ('leadership', 'NN'), ('inspired', 'VBD'), ('loyalty', 'NN'), ('and', 'CC'), ('courage', 'NN'), ('among', 'IN'), ('his', 'PRP$'), ('subjects', 'NNS'), ('.', '.'), ('As', 'IN'), ('night', 'NN'), ('fell', 'VBD'), (',', ','), ('Shivaji', 'NNP'), ('Maharaj', 'NNP'), ('would', 'MD'), ('retire', 'VB'), ('to', 'TO'), ('his', 'PRP$'), ('quarters', 'NNS'), (',', ','), ('reflecting', 'VBG'), ('on', 'IN'), ('the', 'DT'), ('day', 'NN'), (\"'s\", 'POS'), ('achievements', 'NNS'), ('and', 'CC'), ('preparing', 'VBG'), ('for', 'IN'), ('the', 'DT'), ('challenges', 'NNS'), ('ahead', 'RB'), ('.', '.'), ('His', 'PRP$'), ('dreams', 'NNS'), ('were', 'VBD'), ('filled', 'VBN'), ('with', 'IN'), ('visions', 'NNS'), ('of', 'IN'), ('a', 'DT'), ('strong', 'JJ'), ('and', 'CC'), ('resilient', 'JJ'), ('empire', 'NN'), (',', ','), ('where', 'WRB'), ('justice', 'NN'), ('and', 'CC'), ('valor', 'NN'), ('would', 'MD'), ('prevail', 'VB'), ('.', '.')]\n"
     ]
    }
   ],
   "source": [
    "words = word_tokenize(story)\n",
    "\n",
    "# Perform part-of-speech tagging\n",
    "pos_tags = pos_tag(words)\n",
    "\n",
    "# Print the part-of-speech tags\n",
    "print(\"Part-of-Speech Tags:\")\n",
    "print(pos_tags)"
   ]
  },
  {
   "cell_type": "markdown",
   "id": "52a11c02",
   "metadata": {},
   "source": [
    "# ANSWER -- 9"
   ]
  },
  {
   "cell_type": "code",
   "execution_count": 13,
   "id": "ae1c77d4",
   "metadata": {},
   "outputs": [
    {
     "data": {
      "text/plain": [
       "6"
      ]
     },
     "execution_count": 13,
     "metadata": {},
     "output_type": "execute_result"
    }
   ],
   "source": [
    "import string\n",
    "from collections import Counter\n",
    "text_no_punctuation = story.translate(str.maketrans('', '', string.punctuation))\n",
    "\n",
    "# Tokenize the text\n",
    "words = word_tokenize(text_no_punctuation.lower())  # Convert to lower case for consistent counting\n",
    "\n",
    "# Count the frequency of each term\n",
    "term_counts = Counter(words)\n",
    "shivaji_count = term_counts.get('shivaji')\n",
    "shivaji_count"
   ]
  },
  {
   "cell_type": "markdown",
   "id": "b986f7a4",
   "metadata": {},
   "source": [
    "# ANSWER -- 10"
   ]
  },
  {
   "cell_type": "code",
   "execution_count": 14,
   "id": "603a77e2",
   "metadata": {},
   "outputs": [
    {
     "data": {
      "image/png": "[encoded data removed]",
      "text/plain": [
       "<Figure size 1000x600 with 1 Axes>"
      ]
     },
     "metadata": {},
     "output_type": "display_data"
    }
   ],
   "source": [
    "import matplotlib.pyplot as plt\n",
    "top_10_terms = term_counts.most_common(10)\n",
    "\n",
    "# Separate the terms and their counts\n",
    "terms, counts = zip(*top_10_terms)\n",
    "\n",
    "# Plot the results\n",
    "plt.figure(figsize=(10, 6))\n",
    "plt.bar(terms, counts, color='red')\n",
    "plt.xlabel('Words')\n",
    "plt.ylabel('Frequency')\n",
    "plt.title('Top 10 Most Frequent Words')\n",
    "plt.xticks(rotation=45)\n",
    "plt.show()"
   ]
  },
  {
   "cell_type": "markdown",
   "id": "27b55463",
   "metadata": {},
   "source": [
    "# ANSWER -- 11"
   ]
  },
  {
   "cell_type": "code",
   "execution_count": 15,
   "id": "5c1225ef",
   "metadata": {},
   "outputs": [
    {
     "data": {
      "text/plain": [
       "199"
      ]
     },
     "execution_count": 15,
     "metadata": {},
     "output_type": "execute_result"
    }
   ],
   "source": [
    "text_no_punctuation = story.translate(str.maketrans('', '', string.punctuation))\n",
    "\n",
    "# Tokenize the text\n",
    "words = word_tokenize(text_no_punctuation.lower())  # Convert to lower case for consistent counting\n",
    "\n",
    "# Count the number of tokens\n",
    "token_count = len(words)\n",
    "token_count"
   ]
  },
  {
   "cell_type": "markdown",
   "id": "d1ab7b9c",
   "metadata": {},
   "source": [
    "# ANSWER -- 12"
   ]
  },
  {
   "cell_type": "code",
   "execution_count": 16,
   "id": "1d099f11",
   "metadata": {},
   "outputs": [
    {
     "name": "stdout",
     "output_type": "stream",
     "text": [
      "Sentence count: 11\n"
     ]
    }
   ],
   "source": [
    "sentences = sent_tokenize(story)\n",
    "\n",
    "# Count the number of sentences\n",
    "sentence_count = len(sentences)\n",
    "\n",
    "# Print the sentence count\n",
    "print(f\"Sentence count: {sentence_count}\")"
   ]
  },
  {
   "cell_type": "markdown",
   "id": "cfe2af81",
   "metadata": {},
   "source": [
    "# ANSWER -- 13"
   ]
  },
  {
   "cell_type": "code",
   "execution_count": 17,
   "id": "26cddba9",
   "metadata": {},
   "outputs": [
    {
     "name": "stderr",
     "output_type": "stream",
     "text": [
      "[nltk_data] Downloading package stopwords to\n",
      "[nltk_data]     C:\\Users\\eklav\\AppData\\Roaming\\nltk_data...\n",
      "[nltk_data]   Package stopwords is already up-to-date!\n"
     ]
    },
    {
     "data": {
      "text/plain": [
       "[('the', 13), ('and', 13), ('his', 11)]"
      ]
     },
     "execution_count": 17,
     "metadata": {},
     "output_type": "execute_result"
    }
   ],
   "source": [
    "from nltk.corpus import stopwords\n",
    "nltk.download('stopwords')\n",
    "\n",
    "stop_words = set(stopwords.words('english'))\n",
    "\n",
    "# Remove punctuation\n",
    "text_no_punctuation = story.translate(str.maketrans('', '', string.punctuation))\n",
    "\n",
    "# Tokenize the text\n",
    "words = word_tokenize(text_no_punctuation.lower())\n",
    "\n",
    "stopword_counts = Counter(word for word in words if word in stop_words)\n",
    "top_3_stopwords = stopword_counts.most_common(3)\n",
    "\n",
    "top_3_stopwords"
   ]
  },
  {
   "cell_type": "markdown",
   "id": "512b72a8",
   "metadata": {},
   "source": [
    "# ANSWER -- 14"
   ]
  },
  {
   "cell_type": "code",
   "execution_count": 18,
   "id": "70899d7f",
   "metadata": {},
   "outputs": [
    {
     "name": "stdout",
     "output_type": "stream",
     "text": [
      "Longest word: intelligence\n",
      "Length: 12\n"
     ]
    }
   ],
   "source": [
    "words = word_tokenize(story)  # Convert to lower case for consistent counting\n",
    "\n",
    "# Find the longest word and its length\n",
    "longest_word = max(words, key=len)\n",
    "longest_word_length = len(longest_word)\n",
    "\n",
    "print(f\"Longest word: {longest_word}\")\n",
    "print(f\"Length: {longest_word_length}\")"
   ]
  },
  {
   "cell_type": "markdown",
   "id": "c96831ce",
   "metadata": {},
   "source": [
    "# ANSWER -- 16"
   ]
  },
  {
   "cell_type": "code",
   "execution_count": 19,
   "id": "a32160de",
   "metadata": {},
   "outputs": [
    {
     "name": "stdout",
     "output_type": "stream",
     "text": [
      "Nouns in the story:\n",
      "['terrain', 'Western', 'Ghats', 'Shivaji', 'Maharaj', 'founder', 'Maratha', 'Empire', 'day', 'planning', 'campaigns', 'tactics', 'leadership', 'Shivaji', 'Maharaj', 'kingdom', 'people', 'threats', 'Shivaji', 'Maharaj', 'stronghold', 'Raigad', 'Fort', 'fortress', 'hilltop', 'fort', 'location', 'lands', 'invaders', 'advisors', 'generals', 'fort', 'hall', 'plans', 'share', 'intelligence', 'decisions', 'empire', 'expansion', 'evenings', 'Shivaji', 'Maharaj', 'court', 'activity', 'feasts', 'gatherings', 'morale', 'soldiers', 'victories', 'events', 'Shivaji', 'Maharaj', 'people', 'vision', 'united', 'Maratha', 'Empire', 'leadership', 'loyalty', 'courage', 'subjects', 'night', 'Shivaji', 'Maharaj', 'quarters', 'day', 'achievements', 'challenges', 'dreams', 'visions', 'empire', 'justice', 'valor']\n"
     ]
    }
   ],
   "source": [
    "# Load the English language model\n",
    "nlp = spacy.load(\"en_core_web_sm\")\n",
    "\n",
    "doc = nlp(story)\n",
    "\n",
    "# Extract nouns\n",
    "nouns = [token.text for token in doc if token.pos_ in ['NOUN', 'PROPN']]\n",
    "\n",
    "# Print the list of nouns\n",
    "print(\"Nouns in the story:\")\n",
    "print(nouns)"
   ]
  },
  {
   "cell_type": "markdown",
   "id": "90bc75cc",
   "metadata": {},
   "source": [
    "# ANSWER -- 17"
   ]
  },
  {
   "cell_type": "code",
   "execution_count": 20,
   "id": "565a93b8",
   "metadata": {},
   "outputs": [
    {
     "name": "stdout",
     "output_type": "stream",
     "text": [
      "Verbs in the story:\n",
      "['preparing', 'Known', 'strengthen', 'protect', 'perched', 'allowed', 'oversee', 'surrounding', 'defend', 'trusted', 'gather', 'discuss', 'make', 'host', 'bolster', 'celebrate', 'address', 'sharing', 'inspired', 'fell', 'retire', 'reflecting', 'preparing', 'filled', 'prevail']\n"
     ]
    }
   ],
   "source": [
    "doc = nlp(story)\n",
    "\n",
    "# Extract and print verbs\n",
    "verbs = [token.text for token in doc if token.pos_ == 'VERB']\n",
    "print(\"Verbs in the story:\")\n",
    "print(verbs)"
   ]
  },
  {
   "cell_type": "markdown",
   "id": "1a6a7419",
   "metadata": {},
   "source": [
    "# ANSWER 19"
   ]
  },
  {
   "cell_type": "code",
   "execution_count": 21,
   "id": "e5fd396e",
   "metadata": {},
   "outputs": [
    {
     "name": "stdout",
     "output_type": "stream",
     "text": [
      "Shivaji Maharaj (PERSON)\n",
      "the Maratha Empire (GPE)\n",
      "another day (DATE)\n",
      "Shivaji Maharaj (PERSON)\n",
      "Shivaji Maharaj’s (PERSON)\n",
      "the Raigad Fort (GPE)\n",
      "Shivaji Maharaj's (PERSON)\n",
      "Shivaji Maharaj (PERSON)\n",
      "Maratha Empire (PERSON)\n",
      "night (TIME)\n",
      "Shivaji Maharaj (PERSON)\n",
      "day (DATE)\n"
     ]
    }
   ],
   "source": [
    "import spacy\n",
    "\n",
    "# Load the pre-trained English model\n",
    "nlp = spacy.load(\"en_core_web_sm\")\n",
    "\n",
    "doc = nlp(story)\n",
    "\n",
    "# Extract named entities\n",
    "for ent in doc.ents:\n",
    "    print(f\"{ent.text} ({ent.label_})\")"
   ]
  },
  {
   "cell_type": "markdown",
   "id": "778b9201",
   "metadata": {},
   "source": [
    "# ANSWER 20"
   ]
  },
  {
   "cell_type": "code",
   "execution_count": 22,
   "id": "7ea38232",
   "metadata": {},
   "outputs": [
    {
     "name": "stdout",
     "output_type": "stream",
     "text": [
      "Frequency of 'kingdom': 1\n",
      "Frequency of 'feast': 0\n"
     ]
    }
   ],
   "source": [
    "words = word_tokenize(story)  # Convert to lower case for consistent counting\n",
    "\n",
    "# Count occurrences of 'kingdom' and 'feast'\n",
    "word_counts = Counter(words)\n",
    "kingdom_count = word_counts['kingdom']\n",
    "feast_count = word_counts['feast']\n",
    "\n",
    "# Print the counts and comparison\n",
    "print(f\"Frequency of 'kingdom': {kingdom_count}\")\n",
    "print(f\"Frequency of 'feast': {feast_count}\")"
   ]
  },
  {
   "cell_type": "code",
   "execution_count": null,
   "id": "f9a3afce",
   "metadata": {},
   "outputs": [],
   "source": []
  }
 ],
 "metadata": {
  "kernelspec": {
   "display_name": "Python 3 (ipykernel)",
   "language": "python",
   "name": "python3"
  },
  "language_info": {
   "codemirror_mode": {
    "name": "ipython",
    "version": 3
   },
   "file_extension": ".py",
   "mimetype": "text/x-python",
   "name": "python",
   "nbconvert_exporter": "python",
   "pygments_lexer": "ipython3",
   "version": "3.11.7"
  },
  "widgets": {
   "application/vnd.jupyter.widget-state+json": {
    "state": {},
    "version_major": 2,
    "version_minor": 0
   }
  }
 },
 "nbformat": 4,
 "nbformat_minor": 5
}
